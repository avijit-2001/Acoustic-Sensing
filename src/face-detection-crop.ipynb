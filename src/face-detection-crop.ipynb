{
 "cells": [
  {
   "cell_type": "code",
   "execution_count": 1,
   "id": "be8f8c0e",
   "metadata": {},
   "outputs": [],
   "source": [
    "import cv2\n",
    "import os"
   ]
  },
  {
   "cell_type": "code",
   "execution_count": 2,
   "id": "af877ec6",
   "metadata": {},
   "outputs": [],
   "source": [
    "extension = {\n",
    "    'anger': 'an',\n",
    "    'disgust': 'di',\n",
    "    'fear': 'fe',\n",
    "    'happiness': 'ha',\n",
    "    'neutral': 'ne',\n",
    "    'sadness': 'sa',\n",
    "    'surprise': 'su',\n",
    "    'contempt': 'co'\n",
    "}"
   ]
  },
  {
   "cell_type": "code",
   "execution_count": 3,
   "id": "a4538e42",
   "metadata": {},
   "outputs": [],
   "source": [
    "path = os.getcwd()\n",
    "path_data = path + '/data'"
   ]
  },
  {
   "cell_type": "code",
   "execution_count": 4,
   "id": "ac3c1b26",
   "metadata": {},
   "outputs": [],
   "source": [
    "image_folder = path + '/data/CK/anger'"
   ]
  },
  {
   "cell_type": "code",
   "execution_count": null,
   "id": "d8c86d8b",
   "metadata": {},
   "outputs": [],
   "source": [
    "os.chdir(image_folder)"
   ]
  },
  {
   "cell_type": "code",
   "execution_count": 23,
   "id": "03f16368",
   "metadata": {},
   "outputs": [],
   "source": [
    "def crop_imgae(path, save_path):\n",
    "    img = cv2.imread(path)\n",
    "    gray = cv2.cvtColor(img, cv2.COLOR_BGR2GRAY)\n",
    "    cv2.imshow('Ei',gray)\n",
    "    face_cascade = cv2.CascadeClassifier(cv2.data.haarcascades + 'haarcascade_frontalface_default.xml')\n",
    "    faces = face_cascade.detectMultiScale(gray, 1.3, 5)\n",
    "    \n",
    "    for (x, y, w, h) in faces:\n",
    "        cv2.rectangle(img, (x, y), (x+w, y+h), \n",
    "                      (0, 0, 255), 2)\n",
    "\n",
    "        faces = img[y:y + h, x:x + w]\n",
    "        cv2.imwrite(save_path, faces)"
   ]
  },
  {
   "cell_type": "code",
   "execution_count": 24,
   "id": "dc6daa9e",
   "metadata": {},
   "outputs": [],
   "source": [
    "test_case = '/Users/avijitmandal/Desktop/KGP Acad/BTP/test_case'\n",
    "test_caset_new = '/Users/avijitmandal/Desktop/KGP Acad/BTP/test_case_processed'"
   ]
  },
  {
   "cell_type": "code",
   "execution_count": 27,
   "id": "759b135e",
   "metadata": {},
   "outputs": [
    {
     "name": "stdout",
     "output_type": "stream",
     "text": [
      "me.png\n",
      "WhatsApp Image 2021-11-07 at 07.15.51.jpeg\n",
      "download.jpg\n",
      "ankana.png\n",
      "Screenshot 2021-11-07 at 6.11.33 PM.png\n",
      "Screenshot 2021-11-07 at 5.43.46 PM.png\n",
      "Screenshot 2021-11-07 at 5.44.42 PM.png\n",
      "Screenshot 2021-11-07 at 5.40.18 PM.png\n",
      "rashmika.jpg\n",
      "Screenshot 2021-11-07 at 6.08.07 PM.png\n",
      "Screenshot 2021-11-07 at 5.40.07 PM.png\n",
      "220px-Contempt_facial_expression.jpg\n"
     ]
    }
   ],
   "source": [
    "for image in os.listdir(test_case):\n",
    "    if image == '.DS_Store':\n",
    "        continue\n",
    "    image_path = test_case + '/' + image\n",
    "    save_path = test_caset_new + '/' + image\n",
    "    print(image)\n",
    "    crop_imgae(image_path, save_path)"
   ]
  },
  {
   "cell_type": "code",
   "execution_count": 6,
   "id": "02b8eada",
   "metadata": {},
   "outputs": [
    {
     "ename": "FileExistsError",
     "evalue": "[Errno 17] File exists: '/Users/avijitmandal/Desktop/KGP Acad/BTP/processed_data'",
     "output_type": "error",
     "traceback": [
      "\u001b[0;31m---------------------------------------------------------------------------\u001b[0m",
      "\u001b[0;31mFileExistsError\u001b[0m                           Traceback (most recent call last)",
      "\u001b[0;32m/var/folders/mx/1v17r5z16370r7pq4gy9b5q40000gn/T/ipykernel_4090/4017989043.py\u001b[0m in \u001b[0;36m<module>\u001b[0;34m\u001b[0m\n\u001b[1;32m      1\u001b[0m \u001b[0mdirectory\u001b[0m \u001b[0;34m=\u001b[0m \u001b[0;34m'processed_data'\u001b[0m\u001b[0;34m\u001b[0m\u001b[0;34m\u001b[0m\u001b[0m\n\u001b[0;32m----> 2\u001b[0;31m \u001b[0mos\u001b[0m\u001b[0;34m.\u001b[0m\u001b[0mmkdir\u001b[0m\u001b[0;34m(\u001b[0m\u001b[0mos\u001b[0m\u001b[0;34m.\u001b[0m\u001b[0mpath\u001b[0m\u001b[0;34m.\u001b[0m\u001b[0mjoin\u001b[0m\u001b[0;34m(\u001b[0m\u001b[0mpath\u001b[0m\u001b[0;34m,\u001b[0m \u001b[0mdirectory\u001b[0m\u001b[0;34m)\u001b[0m\u001b[0;34m)\u001b[0m\u001b[0;34m\u001b[0m\u001b[0;34m\u001b[0m\u001b[0m\n\u001b[0m",
      "\u001b[0;31mFileExistsError\u001b[0m: [Errno 17] File exists: '/Users/avijitmandal/Desktop/KGP Acad/BTP/processed_data'"
     ]
    }
   ],
   "source": [
    "directory = 'processed_data'\n",
    "os.mkdir(os.path.join(path, directory))"
   ]
  },
  {
   "cell_type": "code",
   "execution_count": 7,
   "id": "43dfa117",
   "metadata": {},
   "outputs": [],
   "source": [
    "processed_data = os.path.join(path, directory)"
   ]
  },
  {
   "cell_type": "code",
   "execution_count": 8,
   "id": "ba06bc9f",
   "metadata": {},
   "outputs": [],
   "source": [
    "dataset = os.getcwd() + '/data'"
   ]
  },
  {
   "cell_type": "code",
   "execution_count": 21,
   "id": "d3ad592d",
   "metadata": {},
   "outputs": [],
   "source": [
    "os.chdir(dataset + '/JAFFE')     "
   ]
  },
  {
   "cell_type": "code",
   "execution_count": 23,
   "id": "af78ee5d",
   "metadata": {},
   "outputs": [
    {
     "name": "stdout",
     "output_type": "stream",
     "text": [
      "['MK.AN3.127.tiff', 'MK.NE1.113.tiff', 'YM.AN3.63.tiff', 'MK.SA1.119.tiff', 'KA.AN1.39.tiff', 'KA.SU2.37.tiff', 'YM.NE2.50.tiff', 'TM.HA2.181.tiff', 'NA.FE2.218.tiff', 'YM.NE3.51.tiff', 'MK.DI1.128.tiff', 'YM.AN2.62.tiff', 'KL.AN2.168.tiff', 'YM.HA2.53.tiff', 'NA.AN2.212.tiff', 'KM.SA5.13.tiff', 'UY.FE1.152.tiff', 'UY.AN2.147.tiff', 'KR.NE1.71.tiff', 'NA.HA3.204.tiff', 'KM.HA2.5.tiff', 'KA.FE1.45.tiff', 'KL.DI4.173.tiff', 'TM.SA1.184.tiff', 'KA.HA1.29.tiff', 'YM.DI3.66.tiff', 'TM.NE1.177.tiff', 'KR.HA2.75.tiff', '.DS_Store', 'UY.DI1.149.tiff', 'KL.SA1.161.tiff', 'KL.FE2.175.tiff', 'KM.SU3.16.tiff', 'KL.AN3.169.tiff', 'NA.AN3.213.tiff', 'YM.FE2.68.tiff', 'NA.FE3.219.tiff', 'KR.SU3.82.tiff', 'NM.AN3.106.tiff', 'UY.NE3.136.tiff', 'YM.FE3.69.tiff', 'NA.DI2.215.tiff', 'KA.NE1.26.tiff', 'KL.DI1.170.tiff', 'MK.AN2.126.tiff', 'TM.AN2.191.tiff', 'YM.FE4.70.tiff', 'KL.DI3.172.tiff', 'KM.DI1.20.tiff', 'NM.AN1.104.tiff', 'NM.FE2.111.tiff', 'UY.NE1.134.tiff', 'KL.SU2.165.tiff', 'MK.SA2.120.tiff', 'KM.FE1.23.tiff', 'TM.NE3.179.tiff', 'KR.HA1.74.tiff', 'NA.SU2.209.tiff', 'NM.SA3.100.tiff', 'UY.DI3.151.tiff', 'NA.AN1.211.tiff', 'KM.SA1.9.tiff', 'KM.AN2.18.tiff', 'KA.NE2.27.tiff', 'YM.HA3.54.tiff', 'MK.HA2.117.tiff', 'UY.SU1.143.tiff', 'KL.SA3.163.tiff', 'TM.FE2.197.tiff', 'NA.FE1.217.tiff', 'KL.AN1.167.tiff', 'TM.SA3.186.tiff', 'KM.AN3.19.tiff', 'MK.DI3.130.tiff', 'TM.DI1.193.tiff', 'UY.SA2.141.tiff', 'KL.HA2.159.tiff', 'YM.HA1.52.tiff', 'KR.FE3.91.tiff', 'KL.SA2.162.tiff', 'KR.FE2.90.tiff', 'KR.SA1.77.tiff', 'KA.SU1.36.tiff', 'KM.SA3.11.tiff', 'UY.DI2.150.tiff', 'KM.FE2.24.tiff', 'KM.HA3.6.tiff', 'TM.NE2.178.tiff', 'YM.SA3.57.tiff', 'MK.SA3.121.tiff', 'YM.SA2.56.tiff', 'NA.HA2.203.tiff', 'MK.SU1.122.tiff', 'KM.NE3.3.tiff', 'KM.FE3.25.tiff', 'KM.SA2.10.tiff', 'KR.DI3.88.tiff', 'README', 'MK.AN1.125.tiff', 'YM.SU3.60.tiff', 'NM.HA1.95.tiff', 'KA.NE3.28.tiff', 'NM.NE2.93.tiff', 'YM.FE1.67.tiff', 'NM.DI3.109.tiff', 'KM.NE1.1.tiff', 'TM.DI3.195.tiff', 'MK.DI2.129.tiff', 'TM.HA1.180.tiff', 'NM.SA1.98.tiff', 'KA.DI1.42.tiff', 'UY.SU2.144.tiff', 'KM.HA1.4.tiff', 'KM.HA4.7.tiff', 'NM.SU1.101.tiff', 'YM.DI1.64.tiff', 'MK.FE3.133.tiff', 'KA.HA2.30.tiff', 'KA.AN2.40.tiff', 'UY.SA3.142.tiff', 'MK.SU3.124.tiff', 'KA.AN3.41.tiff', 'KM.SU1.14.tiff', 'UY.FE2.153.tiff', 'UY.HA2.138.tiff', 'UY.AN1.146.tiff', 'KR.SU1.80.tiff', 'KA.HA3.31.tiff', 'TM.SU1.187.tiff', 'KL.HA3.160.tiff', 'NA.SA1.205.tiff', 'UY.HA3.139.tiff', 'NA.SU3.210.tiff', 'YM.AN1.61.tiff', 'TM.SA2.185.tiff', 'KR.DI2.87.tiff', 'MK.FE2.132.tiff', 'KA.FE3.47.tiff', 'TM.AN3.192.tiff', 'KL.DI2.171.tiff', 'KR.NE2.72.tiff', 'NA.DI1.214.tiff', 'UY.SU3.145.tiff', 'MK.HA3.118.tiff', 'TM.FE3.198.tiff', 'YM.SU2.59.tiff', 'YM.NE1.49.tiff', 'NM.FE3.112.tiff', 'KL.SU3.166.tiff', 'TM.DI2.194.tiff', 'KA.FE2.46.tiff', 'KA.DI3.44.tiff', 'KL.FE1.174.tiff', 'KR.NE3.73.tiff', 'KL.NE1.155.tiff', 'NA.SU1.208.tiff', 'KL.FE3.176.tiff', 'KL.NE3.157.tiff', 'KR.DI1.86.tiff', 'KL.SU1.164.tiff', 'NM.AN2.105.tiff', 'NM.FE1.110.tiff', 'UY.NE2.135.tiff', 'NA.DI3.216.tiff', 'KA.FE4.48.tiff', 'NA.NE3.201.tiff', 'UY.HA1.137.tiff', 'TM.SU2.188.tiff', 'NA.NE1.199.tiff', 'TM.AN1.190.tiff', 'NM.SU2.102.tiff', 'KR.SA3.79.tiff', 'NM.HA3.97.tiff', 'KR.AN3.85.tiff', 'KA.SU3.38.tiff', 'KA.SA3.35.tiff', 'NM.HA2.96.tiff', 'TM.FE1.196.tiff', 'KA.SA2.34.tiff', 'MK.HA1.116.tiff', 'KR.FE1.89.tiff', 'KR.AN2.84.tiff', 'NM.NE3.94.tiff', 'KR.SA2.78.tiff', 'NA.SA3.207.tiff', 'MK.NE2.114.tiff', 'YM.SA1.55.tiff', 'KM.NE2.2.tiff', 'YM.SU1.58.tiff', 'KA.DI2.43.tiff', 'NA.SA2.206.tiff', 'MK.NE3.115.tiff', 'KA.SA1.33.tiff', 'KR.AN1.83.tiff', 'KM.AN1.17.tiff', 'YM.DI2.65.tiff', 'NM.NE1.92.tiff', 'UY.SA1.140.tiff', 'KL.HA1.158.tiff', 'NM.DI1.107.tiff', 'NM.SA2.99.tiff', 'KM.DI3.22.tiff', 'NM.SU3.103.tiff', 'TM.SU3.189.tiff', 'MK.FE1.131.tiff', 'KA.HA4.32.tiff', 'NA.NE2.200.tiff', 'UY.AN3.148.tiff', 'KM.SU2.15.tiff', 'UY.FE3.154.tiff', 'KR.SU2.81.tiff', 'NA.HA1.202.tiff', 'MK.SU2.123.tiff', 'TM.HA3.182.tiff', 'KL.NE2.156.tiff']\n"
     ]
    }
   ],
   "source": [
    "folders = os.listdir(os.getcwd())"
   ]
  },
  {
   "cell_type": "code",
   "execution_count": 35,
   "id": "b5a4ac3c",
   "metadata": {},
   "outputs": [],
   "source": [
    "for file in folders:\n",
    "    if file == 'README' or file == '.DS_Store':\n",
    "        continue\n",
    "    img_path = os.path.join(os.getcwd(), file)\n",
    "    l_directory = None\n",
    "    for key in extension:\n",
    "        if extension[key].upper() in file:\n",
    "            l_directory = key\n",
    "    save_path = os.path.join(processed_data, extension[l_directory] + '$' + 'JAFFE$' + file)\n",
    "    crop_imgae(os.path.join(os.getcwd(), file), os)"
   ]
  },
  {
   "cell_type": "code",
   "execution_count": 11,
   "id": "2e559b77",
   "metadata": {},
   "outputs": [],
   "source": [
    "from os import listdir\n",
    "from os.path import isfile, join"
   ]
  },
  {
   "cell_type": "code",
   "execution_count": 20,
   "id": "c3e6b7a6",
   "metadata": {},
   "outputs": [],
   "source": [
    "for _ in folders:\n",
    "    l_directory = _.lower()\n",
    "    old_path = os.getcwd()\n",
    "    new_path = old_path + '/' + _\n",
    "    if l_directory not in ('.ds_store', 'cvpr2010_ck.pdf', 'readme.txt'):\n",
    "        os.chdir(new_path)\n",
    "        onlyfiles = [f for f in listdir(new_path) if isfile(join(new_path, f))]\n",
    "        for file in onlyfiles:\n",
    "            image_path = os.path.join(new_path, file)\n",
    "            save_path = os.path.join(processed_data, extension[l_directory] + '$' + 'CK$' + file)\n",
    "\n",
    "            crop_imgae(image_path, save_path)\n",
    "    os.chdir(old_path)"
   ]
  },
  {
   "cell_type": "code",
   "execution_count": null,
   "id": "aca6cf4d",
   "metadata": {},
   "outputs": [],
   "source": []
  }
 ],
 "metadata": {
  "kernelspec": {
   "display_name": "Python 3 (ipykernel)",
   "language": "python",
   "name": "python3"
  },
  "language_info": {
   "codemirror_mode": {
    "name": "ipython",
    "version": 3
   },
   "file_extension": ".py",
   "mimetype": "text/x-python",
   "name": "python",
   "nbconvert_exporter": "python",
   "pygments_lexer": "ipython3",
   "version": "3.9.7"
  }
 },
 "nbformat": 4,
 "nbformat_minor": 5
}
