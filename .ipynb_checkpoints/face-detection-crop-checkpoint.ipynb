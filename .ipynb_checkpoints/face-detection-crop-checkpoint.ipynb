{
 "cells": [
  {
   "cell_type": "code",
   "execution_count": 2,
   "id": "91f84587",
   "metadata": {},
   "outputs": [],
   "source": [
    "import cv2\n",
    "import os"
   ]
  },
  {
   "cell_type": "code",
   "execution_count": 32,
   "id": "b0132c3c",
   "metadata": {},
   "outputs": [],
   "source": [
    "extension = {\n",
    "    'Angry': 'en',\n",
    "    'Disgust': 'di',\n",
    "    'Fear': 'fe',\n",
    "    'Happy': 'ha',\n",
    "    'Neutral': 'ne',\n",
    "    'Sad': 'sa',\n",
    "    'Surprise': 'su'\n",
    "}"
   ]
  },
  {
   "cell_type": "code",
   "execution_count": 5,
   "id": "be2f2f18",
   "metadata": {},
   "outputs": [],
   "source": [
    "path = os.getcwd()\n",
    "path_data = path + '/data'"
   ]
  },
  {
   "cell_type": "code",
   "execution_count": 21,
   "id": "56338066",
   "metadata": {},
   "outputs": [],
   "source": [
    "image_folder = path + '/data/CK/anger'"
   ]
  },
  {
   "cell_type": "code",
   "execution_count": 22,
   "id": "c74980af",
   "metadata": {},
   "outputs": [],
   "source": [
    "os.chdir(image_folder)"
   ]
  },
  {
   "cell_type": "code",
   "execution_count": 24,
   "id": "e27d637c",
   "metadata": {},
   "outputs": [],
   "source": [
    "img = cv2.imread('S010_004_00000019.png')\n",
    "gray = cv2.cvtColor(img, cv2.COLOR_BGR2GRAY)\n",
    "os.chdir(path)"
   ]
  },
  {
   "cell_type": "code",
   "execution_count": 30,
   "id": "37233947",
   "metadata": {},
   "outputs": [],
   "source": [
    "face_cascade = cv2.CascadeClassifier(cv2.data.haarcascades + 'haarcascade_frontalface_default.xml')\n",
    "faces = face_cascade.detectMultiScale(gray, 1.3, 5)"
   ]
  },
  {
   "cell_type": "code",
   "execution_count": 31,
   "id": "585e2957",
   "metadata": {},
   "outputs": [],
   "source": [
    "for (x, y, w, h) in faces:\n",
    "    cv2.rectangle(img, (x, y), (x+w, y+h), \n",
    "                  (0, 0, 255), 2)\n",
    "      \n",
    "    faces = img[y:y + h, x:x + w]\n",
    "    cv2.imshow(\"face\",faces)\n",
    "    cv2.imwrite('face.jpg', faces)"
   ]
  },
  {
   "cell_type": "markdown",
   "id": "9d00c769",
   "metadata": {},
   "source": [
    "#### Creating processed_data Directory to save the files"
   ]
  },
  {
   "cell_type": "code",
   "execution_count": null,
   "id": "68fac586",
   "metadata": {
    "collapsed": true
   },
   "outputs": [],
   "source": []
  },
  {
   "cell_type": "code",
   "execution_count": 34,
   "id": "5ebf4368",
   "metadata": {},
   "outputs": [],
   "source": [
    "dataset = os.getcwd() + '/data'\n",
    "folders = os.listdir(dataset)"
   ]
  },
  {
   "cell_type": "code",
   "execution_count": 35,
   "id": "933f9868",
   "metadata": {},
   "outputs": [
    {
     "name": "stdout",
     "output_type": "stream",
     "text": [
      "['TFEID Slight', '.DS_Store', 'JAFFE', 'WangYee-DeterminingMoodFromFacialExpressions.pdf', 'TFEID High', 'CK']\n"
     ]
    }
   ],
   "source": [
    "print(folders)"
   ]
  },
  {
   "cell_type": "code",
   "execution_count": null,
   "id": "8b8a8b1f",
   "metadata": {},
   "outputs": [],
   "source": [
    "for folder in folders:\n",
    "    if folder == 'CK':\n",
    "        "
   ]
  }
 ],
 "metadata": {
  "kernelspec": {
   "display_name": "Python 3 (ipykernel)",
   "language": "python",
   "name": "python3"
  },
  "language_info": {
   "codemirror_mode": {
    "name": "ipython",
    "version": 3
   },
   "file_extension": ".py",
   "mimetype": "text/x-python",
   "name": "python",
   "nbconvert_exporter": "python",
   "pygments_lexer": "ipython3",
   "version": "3.9.7"
  }
 },
 "nbformat": 4,
 "nbformat_minor": 5
}
