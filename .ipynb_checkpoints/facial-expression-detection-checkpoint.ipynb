{
 "cells": [
  {
   "cell_type": "code",
   "execution_count": 13,
   "id": "7dc1adce",
   "metadata": {},
   "outputs": [
    {
     "name": "stdout",
     "output_type": "stream",
     "text": [
      "Init Plugin\n",
      "Init Graph Optimizer\n",
      "Init Kernel\n"
     ]
    }
   ],
   "source": [
    "import pandas as pd\n",
    "import numpy as np\n",
    "%matplotlib inline\n",
    "import matplotlib\n",
    "import matplotlib.pyplot as plt\n",
    "import tensorflow as tf\n",
    "from tensorflow.keras import datasets, layers, models"
   ]
  },
  {
   "cell_type": "code",
   "execution_count": 32,
   "id": "59b5b35e",
   "metadata": {},
   "outputs": [],
   "source": [
    "from keras.utils import np_utils"
   ]
  },
  {
   "cell_type": "code",
   "execution_count": 207,
   "id": "d8daebf7",
   "metadata": {},
   "outputs": [],
   "source": [
    "from PIL import Image"
   ]
  },
  {
   "cell_type": "code",
   "execution_count": 2,
   "id": "6d72196b",
   "metadata": {},
   "outputs": [],
   "source": [
    "file_name = 'fer2013/fer2013.csv'\n",
    "raw_data = pd.read_csv(file_name)"
   ]
  },
  {
   "cell_type": "code",
   "execution_count": 3,
   "id": "a145814a",
   "metadata": {},
   "outputs": [
    {
     "name": "stdout",
     "output_type": "stream",
     "text": [
      "<class 'pandas.core.frame.DataFrame'>\n",
      "RangeIndex: 35887 entries, 0 to 35886\n",
      "Data columns (total 3 columns):\n",
      " #   Column   Non-Null Count  Dtype \n",
      "---  ------   --------------  ----- \n",
      " 0   emotion  35887 non-null  int64 \n",
      " 1   pixels   35887 non-null  object\n",
      " 2   Usage    35887 non-null  object\n",
      "dtypes: int64(1), object(2)\n",
      "memory usage: 841.2+ KB\n"
     ]
    }
   ],
   "source": [
    "raw_data.info()"
   ]
  },
  {
   "cell_type": "code",
   "execution_count": 4,
   "id": "bd358d15",
   "metadata": {},
   "outputs": [
    {
     "data": {
      "text/html": [
       "<div>\n",
       "<style scoped>\n",
       "    .dataframe tbody tr th:only-of-type {\n",
       "        vertical-align: middle;\n",
       "    }\n",
       "\n",
       "    .dataframe tbody tr th {\n",
       "        vertical-align: top;\n",
       "    }\n",
       "\n",
       "    .dataframe thead th {\n",
       "        text-align: right;\n",
       "    }\n",
       "</style>\n",
       "<table border=\"1\" class=\"dataframe\">\n",
       "  <thead>\n",
       "    <tr style=\"text-align: right;\">\n",
       "      <th></th>\n",
       "      <th>emotion</th>\n",
       "      <th>pixels</th>\n",
       "      <th>Usage</th>\n",
       "    </tr>\n",
       "  </thead>\n",
       "  <tbody>\n",
       "    <tr>\n",
       "      <th>0</th>\n",
       "      <td>0</td>\n",
       "      <td>70 80 82 72 58 58 60 63 54 58 60 48 89 115 121...</td>\n",
       "      <td>Training</td>\n",
       "    </tr>\n",
       "    <tr>\n",
       "      <th>1</th>\n",
       "      <td>0</td>\n",
       "      <td>151 150 147 155 148 133 111 140 170 174 182 15...</td>\n",
       "      <td>Training</td>\n",
       "    </tr>\n",
       "    <tr>\n",
       "      <th>2</th>\n",
       "      <td>2</td>\n",
       "      <td>231 212 156 164 174 138 161 173 182 200 106 38...</td>\n",
       "      <td>Training</td>\n",
       "    </tr>\n",
       "    <tr>\n",
       "      <th>3</th>\n",
       "      <td>4</td>\n",
       "      <td>24 32 36 30 32 23 19 20 30 41 21 22 32 34 21 1...</td>\n",
       "      <td>Training</td>\n",
       "    </tr>\n",
       "    <tr>\n",
       "      <th>4</th>\n",
       "      <td>6</td>\n",
       "      <td>4 0 0 0 0 0 0 0 0 0 0 0 3 15 23 28 48 50 58 84...</td>\n",
       "      <td>Training</td>\n",
       "    </tr>\n",
       "  </tbody>\n",
       "</table>\n",
       "</div>"
      ],
      "text/plain": [
       "   emotion                                             pixels     Usage\n",
       "0        0  70 80 82 72 58 58 60 63 54 58 60 48 89 115 121...  Training\n",
       "1        0  151 150 147 155 148 133 111 140 170 174 182 15...  Training\n",
       "2        2  231 212 156 164 174 138 161 173 182 200 106 38...  Training\n",
       "3        4  24 32 36 30 32 23 19 20 30 41 21 22 32 34 21 1...  Training\n",
       "4        6  4 0 0 0 0 0 0 0 0 0 0 0 3 15 23 28 48 50 58 84...  Training"
      ]
     },
     "execution_count": 4,
     "metadata": {},
     "output_type": "execute_result"
    }
   ],
   "source": [
    "raw_data.head()"
   ]
  },
  {
   "cell_type": "code",
   "execution_count": 15,
   "id": "6ba3126d",
   "metadata": {},
   "outputs": [],
   "source": [
    "classes = ['Angry', 'Disgust', 'Fear', 'Happy', 'Sad', 'Surprise', 'Neutral']"
   ]
  },
  {
   "cell_type": "code",
   "execution_count": 323,
   "id": "bd032372",
   "metadata": {},
   "outputs": [],
   "source": [
    "def plot_image(img):\n",
    "    \n",
    "    img = img.split(\"\")\n",
    "    img = img / 255\n",
    "    data = np.array(img).resize(48, 48)\n",
    "    plt.imshow(data, cmap=\"gray\", interpolation=\"nearest\")\n",
    "    plt.xlabel(label)\n",
    "    plt.show()"
   ]
  },
  {
   "cell_type": "code",
   "execution_count": 325,
   "id": "c2d365a4",
   "metadata": {},
   "outputs": [
    {
     "ename": "KeyError",
     "evalue": "'pixel'",
     "output_type": "error",
     "traceback": [
      "\u001b[0;31m---------------------------------------------------------------------------\u001b[0m",
      "\u001b[0;31mKeyError\u001b[0m                                  Traceback (most recent call last)",
      "\u001b[0;32m/opt/homebrew/Caskroom/miniforge/base/envs/tensorflow/lib/python3.9/site-packages/pandas/core/indexes/base.py\u001b[0m in \u001b[0;36mget_loc\u001b[0;34m(self, key, method, tolerance)\u001b[0m\n\u001b[1;32m   3360\u001b[0m             \u001b[0;32mtry\u001b[0m\u001b[0;34m:\u001b[0m\u001b[0;34m\u001b[0m\u001b[0;34m\u001b[0m\u001b[0m\n\u001b[0;32m-> 3361\u001b[0;31m                 \u001b[0;32mreturn\u001b[0m \u001b[0mself\u001b[0m\u001b[0;34m.\u001b[0m\u001b[0m_engine\u001b[0m\u001b[0;34m.\u001b[0m\u001b[0mget_loc\u001b[0m\u001b[0;34m(\u001b[0m\u001b[0mcasted_key\u001b[0m\u001b[0;34m)\u001b[0m\u001b[0;34m\u001b[0m\u001b[0;34m\u001b[0m\u001b[0m\n\u001b[0m\u001b[1;32m   3362\u001b[0m             \u001b[0;32mexcept\u001b[0m \u001b[0mKeyError\u001b[0m \u001b[0;32mas\u001b[0m \u001b[0merr\u001b[0m\u001b[0;34m:\u001b[0m\u001b[0;34m\u001b[0m\u001b[0;34m\u001b[0m\u001b[0m\n",
      "\u001b[0;32m/opt/homebrew/Caskroom/miniforge/base/envs/tensorflow/lib/python3.9/site-packages/pandas/_libs/index.pyx\u001b[0m in \u001b[0;36mpandas._libs.index.IndexEngine.get_loc\u001b[0;34m()\u001b[0m\n",
      "\u001b[0;32m/opt/homebrew/Caskroom/miniforge/base/envs/tensorflow/lib/python3.9/site-packages/pandas/_libs/index.pyx\u001b[0m in \u001b[0;36mpandas._libs.index.IndexEngine.get_loc\u001b[0;34m()\u001b[0m\n",
      "\u001b[0;32mpandas/_libs/hashtable_class_helper.pxi\u001b[0m in \u001b[0;36mpandas._libs.hashtable.PyObjectHashTable.get_item\u001b[0;34m()\u001b[0m\n",
      "\u001b[0;32mpandas/_libs/hashtable_class_helper.pxi\u001b[0m in \u001b[0;36mpandas._libs.hashtable.PyObjectHashTable.get_item\u001b[0;34m()\u001b[0m\n",
      "\u001b[0;31mKeyError\u001b[0m: 'pixel'",
      "\nThe above exception was the direct cause of the following exception:\n",
      "\u001b[0;31mKeyError\u001b[0m                                  Traceback (most recent call last)",
      "\u001b[0;32m/var/folders/mx/1v17r5z16370r7pq4gy9b5q40000gn/T/ipykernel_874/1431346863.py\u001b[0m in \u001b[0;36m<module>\u001b[0;34m\u001b[0m\n\u001b[0;32m----> 1\u001b[0;31m \u001b[0mplot_image\u001b[0m\u001b[0;34m(\u001b[0m\u001b[0mraw_data\u001b[0m\u001b[0;34m[\u001b[0m\u001b[0;34m'pixel'\u001b[0m\u001b[0;34m]\u001b[0m\u001b[0;34m[\u001b[0m\u001b[0;36m0\u001b[0m\u001b[0;34m]\u001b[0m\u001b[0;34m)\u001b[0m\u001b[0;34m\u001b[0m\u001b[0;34m\u001b[0m\u001b[0m\n\u001b[0m",
      "\u001b[0;32m/opt/homebrew/Caskroom/miniforge/base/envs/tensorflow/lib/python3.9/site-packages/pandas/core/frame.py\u001b[0m in \u001b[0;36m__getitem__\u001b[0;34m(self, key)\u001b[0m\n\u001b[1;32m   3456\u001b[0m             \u001b[0;32mif\u001b[0m \u001b[0mself\u001b[0m\u001b[0;34m.\u001b[0m\u001b[0mcolumns\u001b[0m\u001b[0;34m.\u001b[0m\u001b[0mnlevels\u001b[0m \u001b[0;34m>\u001b[0m \u001b[0;36m1\u001b[0m\u001b[0;34m:\u001b[0m\u001b[0;34m\u001b[0m\u001b[0;34m\u001b[0m\u001b[0m\n\u001b[1;32m   3457\u001b[0m                 \u001b[0;32mreturn\u001b[0m \u001b[0mself\u001b[0m\u001b[0;34m.\u001b[0m\u001b[0m_getitem_multilevel\u001b[0m\u001b[0;34m(\u001b[0m\u001b[0mkey\u001b[0m\u001b[0;34m)\u001b[0m\u001b[0;34m\u001b[0m\u001b[0;34m\u001b[0m\u001b[0m\n\u001b[0;32m-> 3458\u001b[0;31m             \u001b[0mindexer\u001b[0m \u001b[0;34m=\u001b[0m \u001b[0mself\u001b[0m\u001b[0;34m.\u001b[0m\u001b[0mcolumns\u001b[0m\u001b[0;34m.\u001b[0m\u001b[0mget_loc\u001b[0m\u001b[0;34m(\u001b[0m\u001b[0mkey\u001b[0m\u001b[0;34m)\u001b[0m\u001b[0;34m\u001b[0m\u001b[0;34m\u001b[0m\u001b[0m\n\u001b[0m\u001b[1;32m   3459\u001b[0m             \u001b[0;32mif\u001b[0m \u001b[0mis_integer\u001b[0m\u001b[0;34m(\u001b[0m\u001b[0mindexer\u001b[0m\u001b[0;34m)\u001b[0m\u001b[0;34m:\u001b[0m\u001b[0;34m\u001b[0m\u001b[0;34m\u001b[0m\u001b[0m\n\u001b[1;32m   3460\u001b[0m                 \u001b[0mindexer\u001b[0m \u001b[0;34m=\u001b[0m \u001b[0;34m[\u001b[0m\u001b[0mindexer\u001b[0m\u001b[0;34m]\u001b[0m\u001b[0;34m\u001b[0m\u001b[0;34m\u001b[0m\u001b[0m\n",
      "\u001b[0;32m/opt/homebrew/Caskroom/miniforge/base/envs/tensorflow/lib/python3.9/site-packages/pandas/core/indexes/base.py\u001b[0m in \u001b[0;36mget_loc\u001b[0;34m(self, key, method, tolerance)\u001b[0m\n\u001b[1;32m   3361\u001b[0m                 \u001b[0;32mreturn\u001b[0m \u001b[0mself\u001b[0m\u001b[0;34m.\u001b[0m\u001b[0m_engine\u001b[0m\u001b[0;34m.\u001b[0m\u001b[0mget_loc\u001b[0m\u001b[0;34m(\u001b[0m\u001b[0mcasted_key\u001b[0m\u001b[0;34m)\u001b[0m\u001b[0;34m\u001b[0m\u001b[0;34m\u001b[0m\u001b[0m\n\u001b[1;32m   3362\u001b[0m             \u001b[0;32mexcept\u001b[0m \u001b[0mKeyError\u001b[0m \u001b[0;32mas\u001b[0m \u001b[0merr\u001b[0m\u001b[0;34m:\u001b[0m\u001b[0;34m\u001b[0m\u001b[0;34m\u001b[0m\u001b[0m\n\u001b[0;32m-> 3363\u001b[0;31m                 \u001b[0;32mraise\u001b[0m \u001b[0mKeyError\u001b[0m\u001b[0;34m(\u001b[0m\u001b[0mkey\u001b[0m\u001b[0;34m)\u001b[0m \u001b[0;32mfrom\u001b[0m \u001b[0merr\u001b[0m\u001b[0;34m\u001b[0m\u001b[0;34m\u001b[0m\u001b[0m\n\u001b[0m\u001b[1;32m   3364\u001b[0m \u001b[0;34m\u001b[0m\u001b[0m\n\u001b[1;32m   3365\u001b[0m         \u001b[0;32mif\u001b[0m \u001b[0mis_scalar\u001b[0m\u001b[0;34m(\u001b[0m\u001b[0mkey\u001b[0m\u001b[0;34m)\u001b[0m \u001b[0;32mand\u001b[0m \u001b[0misna\u001b[0m\u001b[0;34m(\u001b[0m\u001b[0mkey\u001b[0m\u001b[0;34m)\u001b[0m \u001b[0;32mand\u001b[0m \u001b[0;32mnot\u001b[0m \u001b[0mself\u001b[0m\u001b[0;34m.\u001b[0m\u001b[0mhasnans\u001b[0m\u001b[0;34m:\u001b[0m\u001b[0;34m\u001b[0m\u001b[0;34m\u001b[0m\u001b[0m\n",
      "\u001b[0;31mKeyError\u001b[0m: 'pixel'"
     ]
    }
   ],
   "source": [
    "plot_image(raw_data['pixel'][0])"
   ]
  },
  {
   "cell_type": "code",
   "execution_count": 19,
   "id": "58f748d0",
   "metadata": {},
   "outputs": [],
   "source": [
    "NUM_CLASSES = 7\n",
    "IMG_SIZE = 48\n",
    "TRAIN_END = 28708\n",
    "TEST_START = TRAIN_END + 1"
   ]
  },
  {
   "cell_type": "code",
   "execution_count": 20,
   "id": "873625ec",
   "metadata": {},
   "outputs": [],
   "source": [
    "def spilt_for_test(list):\n",
    "    train = list[0: TRAIN_END]\n",
    "    test = list[TEST_START:]\n",
    "    return train, test"
   ]
  },
  {
   "cell_type": "code",
   "execution_count": 26,
   "id": "521e23f6",
   "metadata": {},
   "outputs": [],
   "source": [
    "def pandas_vector_to_list(pandas_df):\n",
    "    py_list = [item for item in pandas_df.values.tolist()]\n",
    "    return py_list"
   ]
  },
  {
   "cell_type": "code",
   "execution_count": 81,
   "id": "a274e42f",
   "metadata": {},
   "outputs": [],
   "source": [
    "def process_emotion(emotion):\n",
    "    emotion_as_list = pandas_vector_to_list(emotion)\n",
    "    y_data = []\n",
    "    for index in range(len(emotion_as_list)):\n",
    "        y_data.append(emotion_as_list[index])\n",
    "    y_data_categorical = np_utils.to_categorical(emotion_as_list, NUM_CLASSES)\n",
    "    \n",
    "    return y_data_categorical"
   ]
  },
  {
   "cell_type": "code",
   "execution_count": 111,
   "id": "2e9c5c60",
   "metadata": {},
   "outputs": [],
   "source": [
    "def process_pixels(pixels, img_size):\n",
    "    pixel_as_list = pandas_vector_to_list(pixels)\n",
    "    np_image_array = []\n",
    "    for index, item in enumerate(pixel_as_list):\n",
    "        pixel_data = item.split(\" \")\n",
    "        data = np.array(pixel_data, 'float32')\n",
    "        data /= 255\n",
    "        data = data.reshape(img_size, img_size)\n",
    "        np_image_array.append(data)\n",
    "    return np.array(np_image_array)"
   ]
  },
  {
   "cell_type": "code",
   "execution_count": 121,
   "id": "46158eb2",
   "metadata": {},
   "outputs": [],
   "source": [
    "def duplicate_input_layer(array_input, size):\n",
    "    vg_input = np.empty([size, 48, 48, 3])\n",
    "    for index, item in enumerate(vg_input):\n",
    "        vg_input[index][:, :, 0] = array_input[index]\n",
    "        vg_input[index][:, :, 1] = array_input[index]\n",
    "        vg_input[index][:, :, 2] = array_input[index]\n",
    "    return vg_input"
   ]
  },
  {
   "cell_type": "code",
   "execution_count": 137,
   "id": "e40098d0",
   "metadata": {},
   "outputs": [],
   "source": [
    "def get_vgg16_output(vgg16, array_input, n_feature_maps):\n",
    "    vg_input = duplicate_input_layer(array_input, n_feature_maps)\n",
    "\n",
    "    picture_train_features = vgg16.predict(vg_input)\n",
    "    del (vg_input)\n",
    "\n",
    "    feature_map = np.empty([n_feature_maps, 512])\n",
    "    for idx_pic, picture in enumerate(picture_train_features):\n",
    "        feature_map[idx_pic] = picture\n",
    "    return feature_map\n"
   ]
  },
  {
   "cell_type": "markdown",
   "id": "11ffc280",
   "metadata": {},
   "source": [
    "# Main Code"
   ]
  },
  {
   "cell_type": "code",
   "execution_count": 114,
   "id": "95e77298",
   "metadata": {},
   "outputs": [],
   "source": [
    "emotion_array = process_emotion(raw_data['emotion'])\n",
    "pixel_array = process_pixels(raw_data['pixels'], IMG_SIZE)"
   ]
  },
  {
   "cell_type": "code",
   "execution_count": 115,
   "id": "eae50c26",
   "metadata": {},
   "outputs": [],
   "source": [
    "x_train, x_test = spilt_for_test(pixel_array)\n",
    "y_train, y_test = spilt_for_test(emotion_array)"
   ]
  },
  {
   "cell_type": "code",
   "execution_count": 116,
   "id": "d2ddea49",
   "metadata": {},
   "outputs": [],
   "source": [
    "n_train = len(x_train)\n",
    "n_test = len(x_test)"
   ]
  },
  {
   "cell_type": "code",
   "execution_count": 88,
   "id": "0f97d944",
   "metadata": {},
   "outputs": [],
   "source": [
    "vgg16 = tf.keras.applications.VGG16(\n",
    "    include_top=False, \n",
    "    input_shape=(48, 48, 3),\n",
    "    pooling='avg',\n",
    "    weights='imagenet')"
   ]
  },
  {
   "cell_type": "code",
   "execution_count": 138,
   "id": "f9efff6b",
   "metadata": {},
   "outputs": [],
   "source": [
    "x_train_input = duplicate_input_layer(x_train, n_train)\n",
    "x_test_input = duplicate_input_layer(x_test, n_test)"
   ]
  },
  {
   "cell_type": "code",
   "execution_count": 140,
   "id": "77d0156a",
   "metadata": {},
   "outputs": [],
   "source": [
    "x_train_feature_map = get_vgg16_output(vgg16, x_train, n_train)\n",
    "x_test_feature_map = get_vgg16_output(vgg16, x_test, n_test)"
   ]
  },
  {
   "cell_type": "code",
   "execution_count": 157,
   "id": "1c9afdda",
   "metadata": {},
   "outputs": [],
   "source": [
    "top_layer_model = models.Sequential()\n",
    "top_layer_model.add(layers.Dense(256, input_shape=(512,), activation='relu'))\n",
    "top_layer_model.add(layers.Dense(256, input_shape=(256,), activation='relu'))\n",
    "top_layer_model.add(layers.Dense(128, input_shape=(256,)))\n",
    "top_layer_model.add(layers.Dense(NUM_CLASSES, activation='softmax'))\n"
   ]
  },
  {
   "cell_type": "code",
   "execution_count": null,
   "id": "71692f9e",
   "metadata": {},
   "outputs": [],
   "source": []
  },
  {
   "cell_type": "code",
   "execution_count": 158,
   "id": "c4efa1b6",
   "metadata": {},
   "outputs": [],
   "source": [
    "top_layer_model.compile(loss='categorical_crossentropy',\n",
    "                            optimizer='adam', metrics=['accuracy'])"
   ]
  },
  {
   "cell_type": "code",
   "execution_count": 160,
   "id": "64187fcd",
   "metadata": {},
   "outputs": [
    {
     "name": "stdout",
     "output_type": "stream",
     "text": [
      "Epoch 1/10\n",
      "2871/2871 [==============================] - 35s 12ms/step - loss: 1.5460 - accuracy: 0.3979 - val_loss: 1.5177 - val_accuracy: 0.4119\n",
      "Epoch 2/10\n",
      "2871/2871 [==============================] - 27s 10ms/step - loss: 1.4991 - accuracy: 0.4178 - val_loss: 1.4687 - val_accuracy: 0.4338\n",
      "Epoch 3/10\n",
      "2871/2871 [==============================] - 27s 10ms/step - loss: 1.4602 - accuracy: 0.4351 - val_loss: 1.4051 - val_accuracy: 0.4639\n",
      "Epoch 4/10\n",
      "2871/2871 [==============================] - 28s 10ms/step - loss: 1.4228 - accuracy: 0.4517 - val_loss: 1.3584 - val_accuracy: 0.4753\n",
      "Epoch 5/10\n",
      "2871/2871 [==============================] - 28s 10ms/step - loss: 1.3882 - accuracy: 0.4639 - val_loss: 1.3285 - val_accuracy: 0.4901\n",
      "Epoch 6/10\n",
      "2871/2871 [==============================] - 28s 10ms/step - loss: 1.3516 - accuracy: 0.4822 - val_loss: 1.2705 - val_accuracy: 0.5191\n",
      "Epoch 7/10\n",
      "2871/2871 [==============================] - 27s 9ms/step - loss: 1.3084 - accuracy: 0.4972 - val_loss: 1.2792 - val_accuracy: 0.5127\n",
      "Epoch 8/10\n",
      "2871/2871 [==============================] - 27s 9ms/step - loss: 1.2733 - accuracy: 0.5111 - val_loss: 1.1930 - val_accuracy: 0.5429\n",
      "Epoch 9/10\n",
      "2871/2871 [==============================] - 27s 10ms/step - loss: 1.2320 - accuracy: 0.5279 - val_loss: 1.1754 - val_accuracy: 0.5561\n",
      "Epoch 10/10\n",
      "2871/2871 [==============================] - 28s 10ms/step - loss: 1.1962 - accuracy: 0.5424 - val_loss: 1.1447 - val_accuracy: 0.5644\n"
     ]
    },
    {
     "data": {
      "text/plain": [
       "<tensorflow.python.keras.callbacks.History at 0x2ab28b8e0>"
      ]
     },
     "execution_count": 160,
     "metadata": {},
     "output_type": "execute_result"
    }
   ],
   "source": [
    "top_layer_model.fit(x_train_feature_map, y_train,\n",
    "                        validation_data=(x_train_feature_map, y_train),\n",
    "                        epochs=10, batch_size=10)"
   ]
  },
  {
   "cell_type": "code",
   "execution_count": 161,
   "id": "d67948e8",
   "metadata": {},
   "outputs": [
    {
     "name": "stdout",
     "output_type": "stream",
     "text": [
      "225/225 [==============================] - 1s 5ms/step - loss: 1.5732 - accuracy: 0.4333\n"
     ]
    }
   ],
   "source": [
    "score = top_layer_model.evaluate(x_test_feature_map,\n",
    "                                     y_test)"
   ]
  },
  {
   "cell_type": "markdown",
   "id": "050cb259",
   "metadata": {},
   "source": [
    "## Making the Final Model "
   ]
  },
  {
   "cell_type": "code",
   "execution_count": 174,
   "id": "092af3fa",
   "metadata": {},
   "outputs": [],
   "source": [
    "inputs = layers.Input(shape=(48, 48, 3))\n",
    "vg_output = vgg16(inputs)\n",
    "model_predictions = top_layer_model(vg_output)\n",
    "final_model = models.Model(inputs=inputs, outputs=model_predictions)"
   ]
  },
  {
   "cell_type": "code",
   "execution_count": 177,
   "id": "70656502",
   "metadata": {},
   "outputs": [],
   "source": [
    "final_model.compile(loss='categorical_crossentropy',\n",
    "                        optimizer='adamax', metrics=['accuracy'])"
   ]
  },
  {
   "cell_type": "code",
   "execution_count": 178,
   "id": "ac9ca9e6",
   "metadata": {},
   "outputs": [
    {
     "name": "stdout",
     "output_type": "stream",
     "text": [
      "\r",
      "  1/225 [..............................] - ETA: 1:03 - loss: 1.4964 - accuracy: 0.3750"
     ]
    },
    {
     "name": "stderr",
     "output_type": "stream",
     "text": [
      "2021-11-07 00:17:28.905451: I tensorflow/core/grappler/optimizers/custom_graph_optimizer_registry.cc:112] Plugin optimizer for device_type GPU is enabled.\n"
     ]
    },
    {
     "name": "stdout",
     "output_type": "stream",
     "text": [
      "225/225 [==============================] - 10s 44ms/step - loss: 1.5732 - accuracy: 0.4333\n"
     ]
    },
    {
     "data": {
      "text/plain": [
       "[1.5732133388519287, 0.43326833844184875]"
      ]
     },
     "execution_count": 178,
     "metadata": {},
     "output_type": "execute_result"
    }
   ],
   "source": [
    "score = final_model.evaluate(x_test_input, y_test)"
   ]
  },
  {
   "cell_type": "code",
   "execution_count": 179,
   "id": "b9d42c5b",
   "metadata": {},
   "outputs": [
    {
     "name": "stdout",
     "output_type": "stream",
     "text": [
      "[1.5732133388519287, 0.43326833844184875]\n"
     ]
    }
   ],
   "source": [
    "print(score)"
   ]
  },
  {
   "cell_type": "code",
   "execution_count": 315,
   "id": "757a5aaa",
   "metadata": {},
   "outputs": [],
   "source": [
    "def plot_sample(data, label):\n",
    "    data = data / 255\n",
    "    plt.imshow(data, interpolation=\"nearest\")\n",
    "    plt.xlabel(label)\n",
    "    plt.show()"
   ]
  },
  {
   "cell_type": "code",
   "execution_count": 316,
   "id": "3dfc039c",
   "metadata": {},
   "outputs": [],
   "source": [
    "def extract_image(image_path):\n",
    "    basewidth = IMG_SIZE\n",
    "    hsize = IMG_SIZE\n",
    "    img = Image.open(image_path)\n",
    "    img = img.resize((basewidth, hsize), Image.ANTIALIAS)\n",
    "    data = np.zeros(shape=(IMG_SIZE,IMG_SIZE,3))\n",
    "    for x in range(48):\n",
    "        for y in range(48):\n",
    "            RGB = img.getpixel((y, x))\n",
    "            data[x][y][0] = RGB[0]\n",
    "            data[x][y][1] = RGB[1]\n",
    "            data[x][y][2] = RGB[2]\n",
    "    return data"
   ]
  },
  {
   "cell_type": "code",
   "execution_count": 317,
   "id": "194ec8d7",
   "metadata": {},
   "outputs": [
    {
     "name": "stdout",
     "output_type": "stream",
     "text": [
      "['Angry', 'Disgust', 'Fear', 'Happy', 'Sad', 'Surprise', 'Neutral']\n"
     ]
    }
   ],
   "source": [
    "print(classes)"
   ]
  },
  {
   "cell_type": "code",
   "execution_count": 318,
   "id": "8381c8fb",
   "metadata": {},
   "outputs": [],
   "source": [
    "test_image_array = []\n",
    "image_files = ['ankana.jpeg', 'asmita.jpeg', 'rashmika.jpg', 'fear.png']\n",
    "\n",
    "for file_name in image_files:\n",
    "    test_image_array.append(extract_image(file_name))\n",
    "test_image_array = np.array(test_image_array)"
   ]
  },
  {
   "cell_type": "code",
   "execution_count": 319,
   "id": "52e490a3",
   "metadata": {},
   "outputs": [
    {
     "data": {
      "text/plain": [
       "(4, 48, 48, 3)"
      ]
     },
     "execution_count": 319,
     "metadata": {},
     "output_type": "execute_result"
    }
   ],
   "source": [
    "test_image_array.shape"
   ]
  },
  {
   "cell_type": "code",
   "execution_count": 320,
   "id": "66ed5002",
   "metadata": {},
   "outputs": [],
   "source": [
    "y_pred = final_model.predict(test_image_array)"
   ]
  },
  {
   "cell_type": "code",
   "execution_count": 321,
   "id": "540fd5b5",
   "metadata": {},
   "outputs": [
    {
     "name": "stdout",
     "output_type": "stream",
     "text": [
      "[4, 3, 3, 6]\n"
     ]
    }
   ],
   "source": [
    "y_classes = [np.argmax(element) for element in y_pred]\n",
    "print(y_classes)"
   ]
  },
  {
   "cell_type": "code",
   "execution_count": 322,
   "id": "4ac971db",
   "metadata": {},
   "outputs": [
    {
     "data": {
      "image/png": "[encoded data removed]",
      "text/plain": [
       "<Figure size 432x288 with 1 Axes>"
      ]
     },
     "metadata": {
      "needs_background": "light"
     },
     "output_type": "display_data"
    },
    {
     "data": {
      "image/png": "[encoded data removed]",
      "text/plain": [
       "<Figure size 432x288 with 1 Axes>"
      ]
     },
     "metadata": {
      "needs_background": "light"
     },
     "output_type": "display_data"
    },
    {
     "data": {
      "image/png": "[encoded data removed]",
      "text/plain": [
       "<Figure size 432x288 with 1 Axes>"
      ]
     },
     "metadata": {
      "needs_background": "light"
     },
     "output_type": "display_data"
    },
    {
     "data": {
      "image/png": "[encoded data removed]",
      "text/plain": [
       "<Figure size 432x288 with 1 Axes>"
      ]
     },
     "metadata": {
      "needs_background": "light"
     },
     "output_type": "display_data"
    }
   ],
   "source": [
    "for index, img in enumerate(test_image_array):\n",
    "    plot_sample(img, classes[y_classes[index]])"
   ]
  },
  {
   "cell_type": "code",
   "execution_count": null,
   "id": "1c8ba604",
   "metadata": {},
   "outputs": [],
   "source": []
  }
 ],
 "metadata": {
  "kernelspec": {
   "display_name": "Python 3.9 (tensorflow)",
   "language": "python",
   "name": "tensorflow"
  },
  "language_info": {
   "codemirror_mode": {
    "name": "ipython",
    "version": 3
   },
   "file_extension": ".py",
   "mimetype": "text/x-python",
   "name": "python",
   "nbconvert_exporter": "python",
   "pygments_lexer": "ipython3",
   "version": "3.9.7"
  }
 },
 "nbformat": 4,
 "nbformat_minor": 5
}
